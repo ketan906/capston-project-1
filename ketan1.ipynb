{
  "nbformat": 4,
  "nbformat_minor": 0,
  "metadata": {
    "colab": {
      "name": "Urvi_Tandel.ipynb",
      "provenance": []
    },
    "kernelspec": {
      "name": "python3",
      "display_name": "Python 3"
    },
    "language_info": {
      "name": "python"
    }
  },
  "cells": [
    {
      "cell_type": "code",
      "execution_count": null,
      "metadata": {
        "colab": {
          "base_uri": "https://localhost:8080/"
        },
        "id": "-UD_-bCsky2-",
        "outputId": "dfc45fcc-559a-41c5-d8a6-956f120cbe67"
      },
      "outputs": [
        {
          "output_type": "stream",
          "name": "stdout",
          "text": [
            "The minimum difference value: 8\n",
            "The minimum difference value: 6\n",
            "The minimum difference value: 6\n",
            "The minimum difference value: 6\n",
            "The minimum difference value: 6\n"
          ]
        }
      ],
      "source": [
        "def min_diff(l,p):\n",
        "  l.sort()\n",
        "  l2=[]\n",
        "\n",
        "  for i in range(0,len(l)):\n",
        "      if len(l[i:p+i])==p:\n",
        "        l1=l[i:p+i]\n",
        "        l1=l1[-1]-l1[0]\n",
        "        l2.append(l1)\n",
        "\n",
        "      else:\n",
        "        break\n",
        "        \n",
        "      print(\"The minimum difference value:\",min(l2))\n",
        "\n",
        "\n",
        "list=[3,4,1,9,56,7,9,12,13]\n",
        "p=5\n",
        "\n",
        "min_diff(list,p)"
      ]
    },
    {
      "cell_type": "code",
      "source": [
        "def Goldbach(n):\n",
        "  start=2\n",
        "  end=n\n",
        "  prime=[]\n",
        "  for i in range(start,end+1):\n",
        "    if i>1:\n",
        "      for j in range(2,i):\n",
        "        if(i%j==0):\n",
        "          break\n",
        "      else:\n",
        "          prime.append(i)\n",
        "\n",
        "      if (n<=2 or n%2!=0):\n",
        "        print(\"Enter Even number\")\n",
        "        \n",
        "        i=0\n",
        "        while(prime[i] <=n //2):\n",
        "          d=n-prime[i]\n",
        "          if d in prime:\n",
        "            print(f'{prime[i]} + {d} - {n}')\n",
        "            break\n",
        "            i+=1\n",
        "Goldbach(20)"
      ],
      "metadata": {
        "id": "P56fIAnEozXw"
      },
      "execution_count": null,
      "outputs": []
    },
    {
      "cell_type": "code",
      "source": [
        "number = input(\"enter number here \")\n",
        "\n",
        "n= None\n",
        "for cast in (int, float):\n",
        "  try:\n",
        "    n = cast(number)\n",
        "    print(cast)\n",
        "    break\n",
        "  except ValueError:\n",
        "      pass"
      ],
      "metadata": {
        "colab": {
          "base_uri": "https://localhost:8080/"
        },
        "id": "cMTDjQiYqq4o",
        "outputId": "1cbb1a01-7915-4191-bbdd-2e6a1ac0c861"
      },
      "execution_count": null,
      "outputs": [
        {
          "output_type": "stream",
          "name": "stdout",
          "text": [
            "enter number here 7\n",
            "<class 'int'>\n"
          ]
        }
      ]
    }
  ]
}